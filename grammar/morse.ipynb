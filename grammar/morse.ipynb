{
 "cells": [
  {
   "cell_type": "code",
   "execution_count": null,
   "metadata": {
    "collapsed": true
   },
   "outputs": [],
   "source": [
    "morse = {\n",
    "\"0\" : \"-----\",\n",
    "\"1\" : \".----\",\n",
    "\"2\" : \"..---\",\n",
    "\"3\" : \"...--\",\n",
    "\"4\" : \"....-\",\n",
    "\"5\" : \".....\",\n",
    "\"6\" : \"-....\",\n",
    "\"7\" : \"--...\",\n",
    "\"8\" : \"---..\",\n",
    "\"9\" : \"----.\",\n",
    "\".\" : \".-.-.-\",\n",
    "}"
   ]
  },
  {
   "cell_type": "code",
   "execution_count": 2,
   "metadata": {
    "collapsed": true
   },
   "outputs": [],
   "source": [
    "def encode(raw_str):\n",
    "    encoded_str = \"\"\n",
    "    for char in raw_str:\n",
    "        encoded_str += \"(\" + char + \") \" + morse[char] + \"\\n\"\n",
    "    return encoded_str"
   ]
  },
  {
   "cell_type": "code",
   "execution_count": 4,
   "metadata": {
    "collapsed": false
   },
   "outputs": [
    {
     "name": "stdout",
     "output_type": "stream",
     "text": [
      "(0) -----\n",
      "(2) ..---\n",
      "(.) .-.-.-\n",
      "(6) -....\n",
      "(2) ..---\n",
      "(0) -----\n",
      "(3) ...--\n",
      "(.) .-.-.-\n",
      "(6) -....\n",
      "(3) ...--\n",
      "(0) -----\n",
      "(0) -----\n",
      "\n"
     ]
    }
   ],
   "source": [
    "print(encode(\"02.6203.6300\"))"
   ]
  },
  {
   "cell_type": "code",
   "execution_count": 5,
   "metadata": {
    "collapsed": false
   },
   "outputs": [
    {
     "data": {
      "text/plain": [
       "['.', '0', '1', '2', '3', '4', '5', '6', '7', '8', '9']"
      ]
     },
     "execution_count": 5,
     "metadata": {},
     "output_type": "execute_result"
    }
   ],
   "source": [
    "sorted(morse.keys())"
   ]
  },
  {
   "cell_type": "code",
   "execution_count": 6,
   "metadata": {
    "collapsed": false
   },
   "outputs": [
    {
     "data": {
      "text/plain": [
       "['.', '1', '3', '8', '0', '9', '5', '4', '2', '7', '6']"
      ]
     },
     "execution_count": 6,
     "metadata": {},
     "output_type": "execute_result"
    }
   ],
   "source": [
    "list(morse.keys())"
   ]
  },
  {
   "cell_type": "code",
   "execution_count": 6,
   "metadata": {
    "collapsed": false
   },
   "outputs": [
    {
     "data": {
      "text/plain": [
       "True"
      ]
     },
     "execution_count": 6,
     "metadata": {},
     "output_type": "execute_result"
    }
   ],
   "source": [
    "\"9\" in morse"
   ]
  },
  {
   "cell_type": "code",
   "execution_count": 5,
   "metadata": {
    "collapsed": false
   },
   "outputs": [
    {
     "data": {
      "text/plain": [
       "False"
      ]
     },
     "execution_count": 5,
     "metadata": {},
     "output_type": "execute_result"
    }
   ],
   "source": [
    "\"a\" in morse"
   ]
  },
  {
   "cell_type": "code",
   "execution_count": 7,
   "metadata": {
    "collapsed": false
   },
   "outputs": [
    {
     "data": {
      "text/plain": [
       "'-----'"
      ]
     },
     "execution_count": 7,
     "metadata": {},
     "output_type": "execute_result"
    }
   ],
   "source": [
    "morse.get('0')"
   ]
  },
  {
   "cell_type": "code",
   "execution_count": 3,
   "metadata": {
    "collapsed": false
   },
   "outputs": [],
   "source": [
    "morse.get('X')"
   ]
  },
  {
   "cell_type": "code",
   "execution_count": null,
   "metadata": {
    "collapsed": true
   },
   "outputs": [],
   "source": [
    "morse['X']"
   ]
  },
  {
   "cell_type": "code",
   "execution_count": 3,
   "metadata": {
    "collapsed": false
   },
   "outputs": [],
   "source": [
    "morse = {\n",
    "\"0\" : \"-----\",\n",
    "\"1\" : \".----\",\n",
    "\"2\" : \"..---\",\n",
    "\"3\" : \"...--\",\n",
    "\"4\" : \"....-\",\n",
    "\"5\" : \".....\",\n",
    "\"6\" : \"-....\",\n",
    "\"7\" : \"--...\",\n",
    "\"8\" : \"---..\",\n",
    "\"9\" : \"----.\",\n",
    "\".\" : \".-.-.-\",\n",
    "}"
   ]
  },
  {
   "cell_type": "code",
   "execution_count": 4,
   "metadata": {
    "collapsed": false
   },
   "outputs": [
    {
     "name": "stdout",
     "output_type": "stream",
     "text": [
      "7\n",
      "6\n",
      "0\n",
      "9\n",
      ".\n",
      "4\n",
      "2\n",
      "8\n",
      "1\n",
      "5\n",
      "3\n"
     ]
    }
   ],
   "source": [
    "for key in morse.keys():\n",
    "    print(key)"
   ]
  },
  {
   "cell_type": "code",
   "execution_count": 6,
   "metadata": {
    "collapsed": false
   },
   "outputs": [
    {
     "name": "stdout",
     "output_type": "stream",
     "text": [
      "--...\n",
      "-....\n",
      "-----\n",
      "----.\n",
      ".-.-.-\n",
      "....-\n",
      "..---\n",
      "---..\n",
      ".----\n",
      ".....\n",
      "...--\n"
     ]
    }
   ],
   "source": [
    "for value in morse.values():\n",
    "    print(value)"
   ]
  },
  {
   "cell_type": "code",
   "execution_count": 7,
   "metadata": {
    "collapsed": false
   },
   "outputs": [
    {
     "name": "stdout",
     "output_type": "stream",
     "text": [
      "7 --...\n",
      "6 -....\n",
      "0 -----\n",
      "9 ----.\n",
      ". .-.-.-\n",
      "4 ....-\n",
      "2 ..---\n",
      "8 ---..\n",
      "1 .----\n",
      "5 .....\n",
      "3 ...--\n"
     ]
    }
   ],
   "source": [
    "for key, value in morse.items():\n",
    "    print(key, value)"
   ]
  }
 ],
 "metadata": {
  "kernelspec": {
   "display_name": "Python 3",
   "language": "python",
   "name": "python3"
  },
  "language_info": {
   "codemirror_mode": {
    "name": "ipython",
    "version": 3
   },
   "file_extension": ".py",
   "mimetype": "text/x-python",
   "name": "python",
   "nbconvert_exporter": "python",
   "pygments_lexer": "ipython3",
   "version": "3.5.1"
  }
 },
 "nbformat": 4,
 "nbformat_minor": 2
}
