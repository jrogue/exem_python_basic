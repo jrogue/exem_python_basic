{
 "cells": [
  {
   "cell_type": "code",
   "execution_count": 3,
   "metadata": {
    "collapsed": false
   },
   "outputs": [
    {
     "name": "stdout",
     "output_type": "stream",
     "text": [
      "LICENSE.txt  conda-meta  etc\t  lib\t pkgs\tssl\r\n",
      "bin\t     envs\t include  lib64  share\tvar\r\n"
     ]
    }
   ],
   "source": [
    "!ls"
   ]
  },
  {
   "cell_type": "code",
   "execution_count": 4,
   "metadata": {
    "collapsed": true
   },
   "outputs": [],
   "source": [
    "x = [1,2,3]"
   ]
  },
  {
   "cell_type": "code",
   "execution_count": 7,
   "metadata": {
    "collapsed": false
   },
   "outputs": [],
   "source": [
    "% mkdir DATA"
   ]
  },
  {
   "cell_type": "code",
   "execution_count": 8,
   "metadata": {
    "collapsed": false
   },
   "outputs": [
    {
     "name": "stdout",
     "output_type": "stream",
     "text": [
      "/home/nbcommon/DATA\n"
     ]
    }
   ],
   "source": [
    "% cd DATA"
   ]
  },
  {
   "cell_type": "code",
   "execution_count": 12,
   "metadata": {
    "collapsed": false
   },
   "outputs": [
    {
     "name": "stdout",
     "output_type": "stream",
     "text": [
      "Writing DATA\\customer.csv\n"
     ]
    }
   ],
   "source": [
    "%%writefile DATA\\customer.csv\n",
    "1,Park,Belt\n",
    "2,Kim,Shirt\n",
    "2,Kim,Shoes\n",
    "3,Choi,Belt\n",
    "3,Choi,Shoes\n",
    "4,Lee,Belt\n",
    "4,Lee,Shirt\n",
    "4,Lee,Shoes"
   ]
  },
  {
   "cell_type": "code",
   "execution_count": 13,
   "metadata": {
    "collapsed": true
   },
   "outputs": [],
   "source": [
    "import csv"
   ]
  },
  {
   "cell_type": "code",
   "execution_count": 15,
   "metadata": {
    "collapsed": true
   },
   "outputs": [],
   "source": [
    "f = open(\"DATA\\customer.csv\", 'rt')\n",
    "reader = csv.reader(f)"
   ]
  },
  {
   "cell_type": "code",
   "execution_count": 16,
   "metadata": {
    "collapsed": true
   },
   "outputs": [],
   "source": [
    "shoes = set()\n",
    "belts = set()\n",
    "shirts = set()"
   ]
  },
  {
   "cell_type": "code",
   "execution_count": 17,
   "metadata": {
    "collapsed": true
   },
   "outputs": [],
   "source": [
    "for row in reader:\n",
    "        customer = (row[0],row[1])\n",
    "        category = row[2]\n",
    "        if category == \"Shoes\":\n",
    "                shoes.add(customer)\n",
    "        if category == \"Belt\":\n",
    "                belts.add(customer)\n",
    "        if category == \"Shirt\":\n",
    "                shirts.add(customer)\n",
    "f.close()"
   ]
  },
  {
   "cell_type": "code",
   "execution_count": 18,
   "metadata": {
    "collapsed": false
   },
   "outputs": [
    {
     "name": "stdout",
     "output_type": "stream",
     "text": [
      "3 customers have purchased shoes\n",
      "3 customers have purchased belts\n",
      "1 customers have purchased shoes but not belts\n"
     ]
    }
   ],
   "source": [
    "print(\"%s customers have purchased shoes\" % len(shoes))\n",
    "print(\"%s customers have purchased belts\" % len(belts))\n",
    "print(\"%s customers have purchased shoes but not belts\" % len(shoes - belts))"
   ]
  },
  {
   "cell_type": "code",
   "execution_count": 19,
   "metadata": {
    "collapsed": false
   },
   "outputs": [
    {
     "name": "stdout",
     "output_type": "stream",
     "text": [
      "The following customers are our most valued. They have purchased shoes & belts & shirts:\n",
      "('4', 'Lee')\n"
     ]
    }
   ],
   "source": [
    "print(\"The following customers are our most valued. They have purchased shoes & belts & shirts:\")\n",
    "for customer in shoes & belts & shirts:\n",
    "        print(customer)"
   ]
  }
 ],
 "metadata": {
  "kernelspec": {
   "display_name": "Python 3",
   "language": "python",
   "name": "python3"
  },
  "language_info": {
   "codemirror_mode": {
    "name": "ipython",
    "version": 3
   },
   "file_extension": ".py",
   "mimetype": "text/x-python",
   "name": "python",
   "nbconvert_exporter": "python",
   "pygments_lexer": "ipython3",
   "version": "3.5.1"
  }
 },
 "nbformat": 4,
 "nbformat_minor": 2
}
